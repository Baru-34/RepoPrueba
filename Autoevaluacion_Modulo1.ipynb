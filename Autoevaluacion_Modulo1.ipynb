{
  "nbformat": 4,
  "nbformat_minor": 0,
  "metadata": {
    "colab": {
      "provenance": [],
      "toc_visible": true,
      "authorship_tag": "ABX9TyN7dnyhra7vOVcU4Zastfg1",
      "include_colab_link": true
    },
    "kernelspec": {
      "name": "ir",
      "display_name": "R"
    },
    "language_info": {
      "name": "R"
    }
  },
  "cells": [
    {
      "cell_type": "markdown",
      "metadata": {
        "id": "view-in-github",
        "colab_type": "text"
      },
      "source": [
        "<a href=\"https://colab.research.google.com/github/Baru-34/RepoPrueba/blob/main/Autoevaluacion_Modulo1.ipynb\" target=\"_parent\"><img src=\"https://colab.research.google.com/assets/colab-badge.svg\" alt=\"Open In Colab\"/></a>"
      ]
    },
    {
      "cell_type": "markdown",
      "source": [
        "VECTORES Y MATRICES\n",
        "\n",
        "1. Utilizando una distribución uniforme con valor máximo de 10 y mínimo de 1, construya una matriz de 10 filas y 5 columnas:"
      ],
      "metadata": {
        "id": "8tb5DZyWivAo"
      }
    },
    {
      "cell_type": "code",
      "source": [
        "m<-matrix(1:10,nrow=10,ncol=5)\n",
        "m"
      ],
      "metadata": {
        "id": "uiHCv6UAjOJF"
      },
      "execution_count": null,
      "outputs": []
    },
    {
      "cell_type": "markdown",
      "source": [
        "2. Defina un vector con los siguientes valores: -1, -0.5, 0, 0.5, 1. Calcula la longitud, la suma, la media y el error típico del mismo. El vector debe ser definido siguiendo una secuencia de números:"
      ],
      "metadata": {
        "id": "MlXutdxykdrd"
      }
    },
    {
      "cell_type": "code",
      "source": [
        "v<-c(-1, -0.5, 0, 0.5, 1)\n",
        "length(v)\n",
        "sum(v)\n",
        "mean(v)\n",
        "desv<-sd(v)#desviación típica\n",
        "err.std<-(length(v)/sqrt(desv))#error estándar o típico\n",
        "err.std"
      ],
      "metadata": {
        "id": "CsLxBXpXkksr"
      },
      "execution_count": null,
      "outputs": []
    },
    {
      "cell_type": "markdown",
      "source": [
        "FUNCIONES Y BUCLES\n",
        "\n",
        "3. Defina una función que determine si un número es par o impar:"
      ],
      "metadata": {
        "id": "AFKgT_utnt8s"
      }
    },
    {
      "cell_type": "code",
      "source": [],
      "metadata": {
        "id": "yFcLRD8uoKzG"
      },
      "execution_count": null,
      "outputs": []
    }
  ]
}