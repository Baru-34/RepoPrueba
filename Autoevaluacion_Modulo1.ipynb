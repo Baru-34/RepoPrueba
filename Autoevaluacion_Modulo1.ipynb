{
  "nbformat": 4,
  "nbformat_minor": 0,
  "metadata": {
    "colab": {
      "provenance": [],
      "authorship_tag": "ABX9TyNGOzowu3sa6OJawssEaiAE",
      "include_colab_link": true
    },
    "kernelspec": {
      "name": "ir",
      "display_name": "R"
    },
    "language_info": {
      "name": "R"
    }
  },
  "cells": [
    {
      "cell_type": "markdown",
      "metadata": {
        "id": "view-in-github",
        "colab_type": "text"
      },
      "source": [
        "<a href=\"https://colab.research.google.com/github/Baru-34/RepoPrueba/blob/main/Autoevaluacion_Modulo1.ipynb\" target=\"_parent\"><img src=\"https://colab.research.google.com/assets/colab-badge.svg\" alt=\"Open In Colab\"/></a>"
      ]
    },
    {
      "cell_type": "markdown",
      "source": [
        "VECTORES Y MATRICES\n",
        "\n",
        "1. Utilizando una distribución uniforme con valor máximo de 10 y mínimo de 1, construya una matriz de 10 filas y 5 columnas:"
      ],
      "metadata": {
        "id": "8tb5DZyWivAo"
      }
    },
    {
      "cell_type": "code",
      "source": [
        "m<-matrix(1:10,nrow=10,ncol=5)\n",
        "m"
      ],
      "metadata": {
        "id": "uiHCv6UAjOJF"
      },
      "execution_count": null,
      "outputs": []
    },
    {
      "cell_type": "markdown",
      "source": [
        "2. Defina un vector con los siguientes valores: -1, -0.5, 0, 0.5, 1. Calcula la longitud, la suma, la media y el error típico del mismo. El vector debe ser definido siguiendo una secuencia de números:"
      ],
      "metadata": {
        "id": "MlXutdxykdrd"
      }
    },
    {
      "cell_type": "code",
      "source": [
        "v<-c(-1, -0.5, 0, 0.5, 1)\n",
        "length(v)#Calcula la longitud del vector, es decir, el número de elementos\n",
        "sum(v)#Esta función predefinida suma los elementos del vector v\n",
        "mean(v)#Esta función predefinida calcula la media del vector v\n",
        "desv<-sd(v)#Esta función predefinida calcula la desviación típica del vector v\n",
        "err.std<-(length(v)/sqrt(desv))#Asignamos al objeto err.std el cálculo del error estándar o típico dividiendo el número de elementos del vector por la raiz cuadrada de sd\n",
        "err.std"
      ],
      "metadata": {
        "id": "CsLxBXpXkksr"
      },
      "execution_count": null,
      "outputs": []
    },
    {
      "cell_type": "markdown",
      "source": [
        "FUNCIONES Y BUCLES\n",
        "\n",
        "3. Defina una función que determine si un número es par o impar:"
      ],
      "metadata": {
        "id": "AFKgT_utnt8s"
      }
    },
    {
      "cell_type": "code",
      "source": [
        "#Establecemos una función en la primero comprobamos la condición de si el resto de x es igual a 0\n",
        "#Si x es igual a 0 (if), imprimimos mediante print \"este número es par\"\n",
        "#En caso contrario (else), imprimimos mediante print \"este número es impar\"\n",
        "espar <- function(x){\n",
        "  if(x%%2 == 0){\n",
        "    print(\"este número es par\")\n",
        "    }\n",
        "    else{\n",
        "      print(\"este número es impar\")\n",
        "    }}\n",
        "\n",
        "espar(12)\n"
      ],
      "metadata": {
        "id": "yFcLRD8uoKzG"
      },
      "execution_count": null,
      "outputs": []
    },
    {
      "cell_type": "markdown",
      "source": [
        "4. Defina una función que permita sumar todos los números del 1 al 50 (inclusive) divisibles por un determinado número, n:\n",
        "\n"
      ],
      "metadata": {
        "id": "3mGhcqZdv9xX"
      }
    },
    {
      "cell_type": "code",
      "source": [
        "x<-sum(seq(1,50,1))#Sumamos todos los elementos del vector de la secuencia de números que hemos creado con seq\n",
        "#Si el resto de la división entre la suma de los elementos del vector x es igual a 0 (if), devuelve mediante \"cat\", y cuando el resultado de lo anterior sea 0, la sentencia \"es divisible\"\n",
        "#En caso contrario (else), devuelve la sentencia \"no es divisible\"\n",
        "divisible <- function(x,y)\n",
        "  if(x%%y == 0){\n",
        "    cat(x, \"es divisible\")\n",
        "} else {\n",
        "   cat(x, \"no es divisible\")\n",
        "   }\n",
        "x\n",
        "divisible(x,2)"
      ],
      "metadata": {
        "id": "riBGH382yZv8"
      },
      "execution_count": null,
      "outputs": []
    },
    {
      "cell_type": "markdown",
      "source": [
        "5. Defina una función que reciba una palabra y cuente el número de vocales que tiene dicha palabra:"
      ],
      "metadata": {
        "id": "1wSu8WoVvX4B"
      }
    },
    {
      "cell_type": "code",
      "source": [
        "con_pal<-function(x){\n",
        "    sep <- strsplit(x, split = \"\")[[1]] # Tenemos que separar las letras antes de nada\n",
        "    vocales<-c(\"a\",\"e\",\"i\",\"o\",\"u\")# Creamos un vector con las vocales\n",
        "    contar <- length(sep[sep %in% vocales]) # Contamos el número de vocales incluidas en x después de separarlas con la función strsplit y asignarlas a sep\n",
        "    cat(\"El número de vocales de la palabra\", x, \"es de\", contar)#Generamos un mensaje encadenado con el resultado de la variable contar\n",
        "}\n",
        "\n",
        "con_pal(\"manzana\")"
      ],
      "metadata": {
        "id": "vSBn9fRUyace"
      },
      "execution_count": null,
      "outputs": []
    },
    {
      "cell_type": "markdown",
      "source": [
        "6. A partir de una lista de palabras, defina una función que indique cuál es la más larga"
      ],
      "metadata": {
        "id": "nzFJyuZ0IEUP"
      }
    },
    {
      "cell_type": "code",
      "source": [
        "colores <- c(\"azul\",\"rojo\",\"verde\",\"violeta\",\"amarillo\")\n",
        "maximo<-function(x){\n",
        "      n<-nchar(x)\n",
        "      p<-which.max(n)\n",
        "      r<-print(x[p])\n",
        "      cat(\"La palabra más larga es:\", r)\n",
        "}\n",
        "\n",
        "maximo(colores)\n",
        "\n",
        "\n",
        "colores <- c(\"azul\",\"rojo\",\"verde\",\"violeta\",\"amarillo\")\n",
        "max_iterando<-function(z){\n",
        "    k<-nchar(z)\n",
        "    r<-which.max(k)\n",
        "    i = 1\n",
        "    j <-(k[i])\n",
        "    while (j <= r){\n",
        "      cat(\"La palabra más larga es:\", z[r])\n",
        "      j == j + 1\n",
        "}\n",
        "}\n",
        "\n",
        "\n",
        "max_iterando(colores)\n"
      ],
      "metadata": {
        "id": "2nYJVugXZhnP"
      },
      "execution_count": 54,
      "outputs": []
    },
    {
      "cell_type": "markdown",
      "source": [
        "DATAFRAMES\n",
        "\n",
        "En este apartado, se trabajará con el dataset “credit-g.csv”. Se pide:\n",
        "\n",
        "1. Identificar si existen valores faltantes en cada una de las variables"
      ],
      "metadata": {
        "id": "-vdfKs1iGjXk"
      }
    },
    {
      "cell_type": "code",
      "source": [
        "mydata <- read_csv(\"myfile.csv\", transpose=TRUE)"
      ],
      "metadata": {
        "id": "mNJdT5M1GsXn"
      },
      "execution_count": null,
      "outputs": []
    }
  ]
}