{
  "nbformat": 4,
  "nbformat_minor": 0,
  "metadata": {
    "colab": {
      "provenance": [],
      "authorship_tag": "ABX9TyPjFwxya6CihQz7nAyLKuM+",
      "include_colab_link": true
    },
    "kernelspec": {
      "name": "ir",
      "display_name": "R"
    },
    "language_info": {
      "name": "R"
    }
  },
  "cells": [
    {
      "cell_type": "markdown",
      "metadata": {
        "id": "view-in-github",
        "colab_type": "text"
      },
      "source": [
        "<a href=\"https://colab.research.google.com/github/Baru-34/RepoPrueba/blob/main/Copia_de_Autoevaluacion_Modulo1.ipynb\" target=\"_parent\"><img src=\"https://colab.research.google.com/assets/colab-badge.svg\" alt=\"Open In Colab\"/></a>"
      ]
    },
    {
      "cell_type": "markdown",
      "source": [
        "VECTORES Y MATRICES\n",
        "\n",
        "1. Utilizando una distribución uniforme con valor máximo de 10 y mínimo de 1, construya una matriz de 10 filas y 5 columnas:"
      ],
      "metadata": {
        "id": "8tb5DZyWivAo"
      }
    },
    {
      "cell_type": "code",
      "source": [
        "m<-matrix(1:10,nrow=10,ncol=5)\n",
        "m"
      ],
      "metadata": {
        "id": "uiHCv6UAjOJF"
      },
      "execution_count": null,
      "outputs": []
    },
    {
      "cell_type": "markdown",
      "source": [
        "2. Defina un vector con los siguientes valores: -1, -0.5, 0, 0.5, 1. Calcula la longitud, la suma, la media y el error típico del mismo. El vector debe ser definido siguiendo una secuencia de números:"
      ],
      "metadata": {
        "id": "MlXutdxykdrd"
      }
    },
    {
      "cell_type": "code",
      "source": [
        "v<-c(-1, -0.5, 0, 0.5, 1)\n",
        "length(v)#Calcula la longitud del vector, es decir, el número de elementos\n",
        "sum(v)#Esta función predefinida suma los elementos del vector v\n",
        "mean(v)#Esta función predefinida calcula la media del vector v\n",
        "desv<-sd(v)#Esta función predefinida calcula la desviación típica del vector v\n",
        "err.std<-(length(v)/sqrt(desv))#Asignamos al objeto err.std el cálculo del error estándar o típico dividiendo el número de elementos del vector por la raiz cuadrada de sd\n",
        "err.std"
      ],
      "metadata": {
        "id": "CsLxBXpXkksr"
      },
      "execution_count": null,
      "outputs": []
    },
    {
      "cell_type": "markdown",
      "source": [
        "FUNCIONES Y BUCLES\n",
        "\n",
        "3. Defina una función que determine si un número es par o impar:"
      ],
      "metadata": {
        "id": "AFKgT_utnt8s"
      }
    },
    {
      "cell_type": "code",
      "source": [
        "#Establecemos una función en la primero comprobamos la condición de si el resto de x es igual a 0\n",
        "#Si x es igual a 0 (if), imprimimos mediante print \"este número es par\"\n",
        "#En caso contrario (else), imprimimos mediante print \"este número es impar\"\n",
        "espar <- function(x){\n",
        "  if(x%%2 == 0){\n",
        "    print(\"este número es par\")\n",
        "    }\n",
        "    else{\n",
        "      print(\"este número es impar\")\n",
        "    }}\n",
        "\n",
        "espar(12)\n"
      ],
      "metadata": {
        "id": "yFcLRD8uoKzG"
      },
      "execution_count": null,
      "outputs": []
    },
    {
      "cell_type": "markdown",
      "source": [
        "4. Defina una función que permita sumar todos los números del 1 al 50 (inclusive) divisibles por un determinado número, n:\n",
        "\n"
      ],
      "metadata": {
        "id": "3mGhcqZdv9xX"
      }
    },
    {
      "cell_type": "code",
      "source": [
        "x<-sum(seq(1,50,1))#Sumamos todos los elementos del vector de la secuencia de números que hemos creado con seq\n",
        "#Si el resto de la división entre la suma de los elementos del vector x es igual a 0 (if), devuelve mediante \"cat\", y cuando el resultado de lo anterior sea 0, la sentencia \"es divisible\"\n",
        "#En caso contrario (else), devuelve la sentencia \"no es divisible\"\n",
        "divisible <- function(x,y)\n",
        "  if(x%%y == 0){\n",
        "    cat(x, \"es divisible\")\n",
        "} else {\n",
        "   cat(x, \"no es divisible\")\n",
        "   }\n",
        "x\n",
        "divisible(x,2)"
      ],
      "metadata": {
        "id": "riBGH382yZv8"
      },
      "execution_count": null,
      "outputs": []
    },
    {
      "cell_type": "markdown",
      "source": [
        "5. Defina una función que reciba una palabra y cuente el número de vocales que tiene dicha palabra:"
      ],
      "metadata": {
        "id": "1wSu8WoVvX4B"
      }
    },
    {
      "cell_type": "code",
      "source": [
        "con_pal<-function(x){\n",
        "    sep <- strsplit(x, split = \"\")[[1]] # Tenemos que separar las letras antes de nada\n",
        "    vocales<-c(\"a\",\"e\",\"i\",\"o\",\"u\")# Creamos un vector con las vocales\n",
        "    contar <- length(sep[sep %in% vocales]) # Contamos el número de vocales incluidas en x después de separarlas con la función strsplit y asignarlas a sep\n",
        "    cat(\"El número de vocales de la palabra\", x, \"es de\", contar)#Generamos un mensaje encadenado con el resultado de la variable contar\n",
        "}\n",
        "\n",
        "con_pal(\"manzana\")"
      ],
      "metadata": {
        "id": "vSBn9fRUyace"
      },
      "execution_count": null,
      "outputs": []
    },
    {
      "cell_type": "markdown",
      "source": [
        "6. A partir de una lista de palabras, defina una función que indique cuál es la más larga"
      ],
      "metadata": {
        "id": "nzFJyuZ0IEUP"
      }
    },
    {
      "cell_type": "code",
      "source": [
        "colores <- c(\"azul\",\"rojo\",\"verde\",\"violeta\",\"amarillo\") #revisar este código\n",
        "maximo<-function(x){\n",
        "      n<-nchar(x)\n",
        "      p<-which.max(n)\n",
        "      r<-print(x[p])\n",
        "      cat(\"La palabra más larga es:\", r)\n",
        "}\n",
        "\n",
        "maximo(colores)\n",
        "\n",
        "\n",
        "colores <- c(\"azul\",\"rojo\",\"verde\",\"violeta\",\"amarillo\")\n",
        "max_iterando<-function(z){\n",
        "    k<-nchar(z)\n",
        "    r<-which.max(k)\n",
        "    i = 1\n",
        "    j <-(k[i])\n",
        "    while (j <= r){\n",
        "      cat(\"La palabra más larga es:\", z[r])\n",
        "      j == j + 1\n",
        "}\n",
        "}\n",
        "\n",
        "\n",
        "max_iterando(colores)\n"
      ],
      "metadata": {
        "id": "2nYJVugXZhnP"
      },
      "execution_count": null,
      "outputs": []
    },
    {
      "cell_type": "markdown",
      "source": [],
      "metadata": {
        "id": "cdO-lUn0ndvG"
      }
    },
    {
      "cell_type": "markdown",
      "source": [
        "DATAFRAMES\n",
        "\n",
        "En este apartado, se trabajará con el dataset “credit-g.csv”. Se pide:\n",
        "\n",
        "1. Identificar si existen valores faltantes en cada una de las variables"
      ],
      "metadata": {
        "id": "-vdfKs1iGjXk"
      }
    },
    {
      "cell_type": "code",
      "source": [
        "data<-read.csv(\"/content/credit_g.csv\")\n",
        "sapply(data,\n",
        "    function(x) sum(is.na(x)))\n",
        "summary(data)"
      ],
      "metadata": {
        "id": "2yB1kBovTjwC"
      },
      "execution_count": null,
      "outputs": []
    },
    {
      "cell_type": "markdown",
      "source": [
        "2. Mostrar el número de registros de cada clase en la variable objetivo (class)"
      ],
      "metadata": {
        "id": "w83dBTodXi03"
      }
    },
    {
      "cell_type": "code",
      "source": [
        "str(data)#me permite ver la estructura de las variables\n",
        "install.packages(\"skimr\")#instalo el paquete skimr\n",
        "skimr::skim(data)#descriptivo de variables del data frame"
      ],
      "metadata": {
        "id": "FQpgQexKXwHo"
      },
      "execution_count": null,
      "outputs": []
    },
    {
      "cell_type": "markdown",
      "source": [
        "3. Escoged una variable numérica y mostrar el valor máximo, mínimo, medio y mediano."
      ],
      "metadata": {
        "id": "VG-YGt-FaBhP"
      }
    },
    {
      "cell_type": "code",
      "source": [
        "summary(data$age)"
      ],
      "metadata": {
        "id": "cKTq9sNDaGyj"
      },
      "execution_count": null,
      "outputs": []
    },
    {
      "cell_type": "markdown",
      "source": [
        "4. Escoged una variable cualitativa, convertir a factor, y mostrar los diferentes niveles de la misma."
      ],
      "metadata": {
        "id": "65xJcBtzaXht"
      }
    },
    {
      "cell_type": "code",
      "source": [
        "var<-as.factor(data$credit_history)\n",
        "levels(var)"
      ],
      "metadata": {
        "colab": {
          "base_uri": "https://localhost:8080/",
          "height": 34
        },
        "id": "gh0YfG0watkX",
        "outputId": "f8477e5c-d54a-4466-af30-acf611a02088"
      },
      "execution_count": 68,
      "outputs": [
        {
          "output_type": "display_data",
          "data": {
            "text/html": [
              "<style>\n",
              ".list-inline {list-style: none; margin:0; padding: 0}\n",
              ".list-inline>li {display: inline-block}\n",
              ".list-inline>li:not(:last-child)::after {content: \"\\00b7\"; padding: 0 .5ex}\n",
              "</style>\n",
              "<ol class=list-inline><li>'\\'all paid\\''</li><li>'\\'critical/other existing credit\\''</li><li>'\\'delayed previously\\''</li><li>'\\'existing paid\\''</li><li>'\\'no credits/all paid\\''</li></ol>\n"
            ],
            "text/markdown": "1. '\\'all paid\\''\n2. '\\'critical/other existing credit\\''\n3. '\\'delayed previously\\''\n4. '\\'existing paid\\''\n5. '\\'no credits/all paid\\''\n\n\n",
            "text/latex": "\\begin{enumerate*}\n\\item '\\textbackslash{}'all paid\\textbackslash{}''\n\\item '\\textbackslash{}'critical/other existing credit\\textbackslash{}''\n\\item '\\textbackslash{}'delayed previously\\textbackslash{}''\n\\item '\\textbackslash{}'existing paid\\textbackslash{}''\n\\item '\\textbackslash{}'no credits/all paid\\textbackslash{}''\n\\end{enumerate*}\n",
            "text/plain": [
              "[1] \"'all paid'\"                       \"'critical/other existing credit'\"\n",
              "[3] \"'delayed previously'\"             \"'existing paid'\"                 \n",
              "[5] \"'no credits/all paid'\"           "
            ]
          },
          "metadata": {}
        }
      ]
    },
    {
      "cell_type": "markdown",
      "source": [
        "5. Identificar los clientes cuya edad es superior a los 45 años"
      ],
      "metadata": {
        "id": "tWbw8TEfbIZl"
      }
    },
    {
      "cell_type": "code",
      "source": [
        "data[data$age > 45,]#filtramos la variable age de la base data, pero solo para valores mayores a 45"
      ],
      "metadata": {
        "id": "ExVocEJrbP2O"
      },
      "execution_count": null,
      "outputs": []
    },
    {
      "cell_type": "markdown",
      "source": [
        "6. Identificar los clientes cuya solicitud de préstamo es diferente a la compra de un nuevo coche o una radio/televisión (purpose)"
      ],
      "metadata": {
        "id": "byZsI3sRecXe"
      }
    },
    {
      "cell_type": "code",
      "source": [
        "var<-data$purpose\n",
        "levels(var)\n",
        "consulta <- data[var != c(\"'new car'\", 'radio/tv'),]#revisar\n",
        "summary(consulta)"
      ],
      "metadata": {
        "id": "4wBqxGEVerjP"
      },
      "execution_count": null,
      "outputs": []
    },
    {
      "cell_type": "markdown",
      "source": [
        "7. Identificar aquellos clientes masculinos que vivan de alquiler (variable housing)"
      ],
      "metadata": {
        "id": "bOIuSSvFnmB3"
      }
    },
    {
      "cell_type": "code",
      "source": [
        "var<-as.factor(data$housing)#lo convierto a factor para averiguar los niveles\n",
        "levels(var)#consulto el nombre de los factores o niveles\n",
        "data[data$housing == \"rent\",]#extraigo los clientes másculinos que viven de alquiler"
      ],
      "metadata": {
        "id": "63YR-GnqnoSj"
      },
      "execution_count": null,
      "outputs": []
    },
    {
      "cell_type": "markdown",
      "source": [
        "8. Obtener una tabla de frecuencias que tenga en cuenta la respuesta a la solicitud (buen o mal pagador) y el tipo del trabajo del cliente"
      ],
      "metadata": {
        "id": "LGbdfTEur49f"
      }
    },
    {
      "cell_type": "code",
      "source": [
        "table(data$class, data$job)"
      ],
      "metadata": {
        "colab": {
          "base_uri": "https://localhost:8080/",
          "height": 160
        },
        "id": "zu1ozGJar9Ix",
        "outputId": "91aaa225-2bab-4f1d-c866-ab3abb000ebb"
      },
      "execution_count": 82,
      "outputs": [
        {
          "output_type": "display_data",
          "data": {
            "text/plain": [
              "      \n",
              "       'high qualif/self emp/mgmt' 'unemp/unskilled non res'\n",
              "  bad                           51                         7\n",
              "  good                          97                        15\n",
              "      \n",
              "       'unskilled resident' skilled\n",
              "  bad                    56     186\n",
              "  good                  144     444"
            ]
          },
          "metadata": {}
        }
      ]
    },
    {
      "cell_type": "markdown",
      "source": [
        "10. Visualizar en un histograma la distribución de la variable edad. Pintar dos líneas verticales señalando la media y mediana en rojo y verde, respectivamente"
      ],
      "metadata": {
        "id": "pGRWPCNFvP3c"
      }
    },
    {
      "cell_type": "code",
      "source": [
        "graf<-hist(data$age)\n",
        "graf<-abline(v = mean(data$age), lwd = 2, col = 'red')\n",
        "graf<-abline(v = median(data$age), lwd = 2, col = 'blue')"
      ],
      "metadata": {
        "id": "-ZXP37TJvWhq"
      },
      "execution_count": null,
      "outputs": []
    },
    {
      "cell_type": "markdown",
      "source": [
        "10. Visualizar en un gráfico de cajas la distribución de la variable edad según el tipo de trabajo del cliente"
      ],
      "metadata": {
        "id": "vsbCGallzY-c"
      }
    },
    {
      "cell_type": "code",
      "source": [
        "boxplot(data$age ~ data$job, col = c(\"red\",\"blue\",\"green\",\"white\"), main = \"Edad según tipo de trabajo\", xlab = \"Trabajo\", ylab = \"Edad\", las = 2)"
      ],
      "metadata": {
        "id": "VQarxglezaxV"
      },
      "execution_count": null,
      "outputs": []
    },
    {
      "cell_type": "markdown",
      "source": [
        "PREPROCESADO\n",
        "\n",
        "El dataset “bank.xlsx” contiene 1.500 registros que representan a los clientes de un banco que demandaron un crédito personal en el año 2019. Este conjunto de datos contiene seis variables numéricas y cuatro variables categóricas además de la variable CLASE que muestra la información de si se ha devuelto o no el crédito solicitado. La descripción de la base de datos es la siguiente:"
      ],
      "metadata": {
        "id": "CKmol-Mm2Iur"
      }
    }
  ]
}